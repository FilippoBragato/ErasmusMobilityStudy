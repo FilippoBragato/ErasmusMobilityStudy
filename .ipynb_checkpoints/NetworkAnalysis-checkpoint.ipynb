{
 "cells": [
  {
   "cell_type": "markdown",
   "metadata": {},
   "source": [
    "Import needed stuff"
   ]
  },
  {
   "cell_type": "code",
   "execution_count": 1,
   "metadata": {},
   "outputs": [],
   "source": [
    "import requests\n",
    "import sys\n",
    "import pandas as pd\n",
    "import numpy as np\n",
    "from scipy import sparse\n",
    "from io import StringIO\n",
    "# Stupid funny thing\n",
    "def progressBar(current, total, barLength = 20):\n",
    "    percent = float(current) * 100 / total\n",
    "    arrow   = '-' * int(percent/100 * barLength - 1) + '>'\n",
    "    spaces  = ' ' * (barLength - len(arrow))\n",
    "    sys.stdout.write('\\rProgress: [%s%s] %d %%' % (arrow, spaces, percent))"
   ]
  },
  {
   "cell_type": "markdown",
   "metadata": {},
   "source": [
    "Downloading data by http request"
   ]
  },
  {
   "cell_type": "code",
   "execution_count": 2,
   "metadata": {},
   "outputs": [],
   "source": [
    "reply = requests.get('https://data.europa.eu/euodp/data/storage/f/2020-08-11T140550/Finalised%20mobilities%20started%20in%202018%20-%20KA1.csv')\n",
    "reply.encoding = 'utf-8'"
   ]
  },
  {
   "cell_type": "markdown",
   "metadata": {},
   "source": [
    "Transfer in pandas"
   ]
  },
  {
   "cell_type": "code",
   "execution_count": 3,
   "metadata": {},
   "outputs": [
    {
     "name": "stdout",
     "output_type": "stream",
     "text": [
      "0 Project Reference\n",
      "1 Academic Year\n",
      "2 Mobility Start Month\n",
      "3 Mobility End Month\n",
      "4 Mobility Duration\n",
      "5 Activity (mob)\n",
      "6 Field of Education\n",
      "7 Participant Nationality\n",
      "8 Education Level\n",
      "9 Participant Gender\n",
      "10 Participant Profile\n",
      "11 Special Needs\n",
      "12 Fewer Opportunities\n",
      "13 Participant Age\n",
      "14 Sending Country Code\n",
      "15 Sending City\n",
      "16 Sending Organization\n",
      "17 Receiving Country Code\n",
      "18 Receiving City\n",
      "19 Receiving Organization\n",
      "20 Participants\n"
     ]
    }
   ],
   "source": [
    "csv_data = reply.text\n",
    "df = pd.read_csv(StringIO(csv_data), sep=';',low_memory=False)\n",
    "for i, name in enumerate(df.columns):\n",
    "    print(i, name)"
   ]
  },
  {
   "cell_type": "markdown",
   "metadata": {},
   "source": [
    "## Mobility network\n",
    "Simply focused on the number of the excange"
   ]
  },
  {
   "cell_type": "code",
   "execution_count": 4,
   "metadata": {},
   "outputs": [
    {
     "data": {
      "text/html": [
       "<div>\n",
       "<style scoped>\n",
       "    .dataframe tbody tr th:only-of-type {\n",
       "        vertical-align: middle;\n",
       "    }\n",
       "\n",
       "    .dataframe tbody tr th {\n",
       "        vertical-align: top;\n",
       "    }\n",
       "\n",
       "    .dataframe thead th {\n",
       "        text-align: right;\n",
       "    }\n",
       "</style>\n",
       "<table border=\"1\" class=\"dataframe\">\n",
       "  <thead>\n",
       "    <tr style=\"text-align: right;\">\n",
       "      <th></th>\n",
       "      <th>Sending Organization</th>\n",
       "      <th>Receiving Organization</th>\n",
       "      <th>Participants</th>\n",
       "      <th>SendId</th>\n",
       "      <th>RecId</th>\n",
       "    </tr>\n",
       "  </thead>\n",
       "  <tbody>\n",
       "    <tr>\n",
       "      <th>0</th>\n",
       "      <td>ADAMASTOR - ASSOCIACAO CULTURAL</td>\n",
       "      <td>Stowarzyszenie Jeden Swiat</td>\n",
       "      <td>1</td>\n",
       "      <td>17764</td>\n",
       "      <td>9426</td>\n",
       "    </tr>\n",
       "    <tr>\n",
       "      <th>1</th>\n",
       "      <td>ADAMASTOR - ASSOCIACAO CULTURAL</td>\n",
       "      <td>Stowarzyszenie Jeden Swiat</td>\n",
       "      <td>1</td>\n",
       "      <td>17764</td>\n",
       "      <td>9426</td>\n",
       "    </tr>\n",
       "    <tr>\n",
       "      <th>53</th>\n",
       "      <td>Landesberufsschule Arnfels</td>\n",
       "      <td>Language Xchange Ireland</td>\n",
       "      <td>1</td>\n",
       "      <td>2557</td>\n",
       "      <td>57886</td>\n",
       "    </tr>\n",
       "    <tr>\n",
       "      <th>54</th>\n",
       "      <td>Landesberufsschule Arnfels</td>\n",
       "      <td>Language Xchange Ireland</td>\n",
       "      <td>1</td>\n",
       "      <td>2557</td>\n",
       "      <td>57886</td>\n",
       "    </tr>\n",
       "    <tr>\n",
       "      <th>55</th>\n",
       "      <td>Landesberufsschule Arnfels</td>\n",
       "      <td>Language Xchange Ireland</td>\n",
       "      <td>1</td>\n",
       "      <td>2557</td>\n",
       "      <td>57886</td>\n",
       "    </tr>\n",
       "    <tr>\n",
       "      <th>...</th>\n",
       "      <td>...</td>\n",
       "      <td>...</td>\n",
       "      <td>...</td>\n",
       "      <td>...</td>\n",
       "      <td>...</td>\n",
       "    </tr>\n",
       "    <tr>\n",
       "      <th>688505</th>\n",
       "      <td>Asociación para la integración y Progreso de l...</td>\n",
       "      <td>The National Trust for Places of Historic Inte...</td>\n",
       "      <td>1</td>\n",
       "      <td>39728</td>\n",
       "      <td>57985</td>\n",
       "    </tr>\n",
       "    <tr>\n",
       "      <th>688506</th>\n",
       "      <td>COORDINADORA D'ORGANITZADORS DE CAMPS DE TREBA...</td>\n",
       "      <td>VOLUNTEER ACTION FOR PEACE</td>\n",
       "      <td>1</td>\n",
       "      <td>1128</td>\n",
       "      <td>78682</td>\n",
       "    </tr>\n",
       "    <tr>\n",
       "      <th>688507</th>\n",
       "      <td>INEX - SDRUZENI DOBROVOLNYCH AKTIVIT Z S</td>\n",
       "      <td>VOLUNTEER ACTION FOR PEACE</td>\n",
       "      <td>1</td>\n",
       "      <td>59174</td>\n",
       "      <td>78682</td>\n",
       "    </tr>\n",
       "    <tr>\n",
       "      <th>688508</th>\n",
       "      <td>SOLIDARITES JEUNESSES MCP</td>\n",
       "      <td>VOLUNTEER ACTION FOR PEACE</td>\n",
       "      <td>1</td>\n",
       "      <td>11572</td>\n",
       "      <td>78682</td>\n",
       "    </tr>\n",
       "    <tr>\n",
       "      <th>688509</th>\n",
       "      <td>ASSOCIAZIONE INFORMAGIOVANI</td>\n",
       "      <td>VOLUNTEER ACTION FOR PEACE</td>\n",
       "      <td>1</td>\n",
       "      <td>63582</td>\n",
       "      <td>78682</td>\n",
       "    </tr>\n",
       "  </tbody>\n",
       "</table>\n",
       "<p>522838 rows × 5 columns</p>\n",
       "</div>"
      ],
      "text/plain": [
       "                                     Sending Organization  \\\n",
       "0                         ADAMASTOR - ASSOCIACAO CULTURAL   \n",
       "1                         ADAMASTOR - ASSOCIACAO CULTURAL   \n",
       "53                             Landesberufsschule Arnfels   \n",
       "54                             Landesberufsschule Arnfels   \n",
       "55                             Landesberufsschule Arnfels   \n",
       "...                                                   ...   \n",
       "688505  Asociación para la integración y Progreso de l...   \n",
       "688506  COORDINADORA D'ORGANITZADORS DE CAMPS DE TREBA...   \n",
       "688507           INEX - SDRUZENI DOBROVOLNYCH AKTIVIT Z S   \n",
       "688508                          SOLIDARITES JEUNESSES MCP   \n",
       "688509                        ASSOCIAZIONE INFORMAGIOVANI   \n",
       "\n",
       "                                   Receiving Organization  Participants  \\\n",
       "0                              Stowarzyszenie Jeden Swiat             1   \n",
       "1                              Stowarzyszenie Jeden Swiat             1   \n",
       "53                               Language Xchange Ireland             1   \n",
       "54                               Language Xchange Ireland             1   \n",
       "55                               Language Xchange Ireland             1   \n",
       "...                                                   ...           ...   \n",
       "688505  The National Trust for Places of Historic Inte...             1   \n",
       "688506                         VOLUNTEER ACTION FOR PEACE             1   \n",
       "688507                         VOLUNTEER ACTION FOR PEACE             1   \n",
       "688508                         VOLUNTEER ACTION FOR PEACE             1   \n",
       "688509                         VOLUNTEER ACTION FOR PEACE             1   \n",
       "\n",
       "        SendId  RecId  \n",
       "0        17764   9426  \n",
       "1        17764   9426  \n",
       "53        2557  57886  \n",
       "54        2557  57886  \n",
       "55        2557  57886  \n",
       "...        ...    ...  \n",
       "688505   39728  57985  \n",
       "688506    1128  78682  \n",
       "688507   59174  78682  \n",
       "688508   11572  78682  \n",
       "688509   63582  78682  \n",
       "\n",
       "[522838 rows x 5 columns]"
      ]
     },
     "execution_count": 4,
     "metadata": {},
     "output_type": "execute_result"
    }
   ],
   "source": [
    "mobility_df = df[df[df.columns[10]]=='Learner']\n",
    "mobility_df = mobility_df.loc[:, df.columns[np.array((16, 19, 20))]]\n",
    "nodes = np.array(list(set.union(set(mobility_df.loc[:, mobility_df.columns[0]]), set(mobility_df.loc[:, mobility_df.columns[1]]))))\n",
    "# I don't want it to take forever\n",
    "node_position = {}\n",
    "for i, name in enumerate(nodes):\n",
    "    node_position[name] = i\n",
    "mobility_df['SendId'] = (np.array(list(map(lambda x: node_position[x], mobility_df['Sending Organization']))))\n",
    "mobility_df['RecId']= (np.array(list(map(lambda x: node_position[x], mobility_df['Receiving Organization']))))\n",
    "# Adjacency matrix\n",
    "# adj_matrix_crs = sparse.csr_matrix((nodes.size, nodes.size),dtype=int)\n",
    "# adj_matrix_csc = sparse.csc_matrix((nodes.size, nodes.size),dtype=int)\n",
    "mobility_df"
   ]
  },
  {
   "cell_type": "code",
   "execution_count": 5,
   "metadata": {},
   "outputs": [],
   "source": [
    "mobility_serie = mobility_df.groupby(['SendId', 'RecId']).sum()\n",
    "row = np.array(mobility_serie.index.get_level_values(1).tolist())\n",
    "col = np.array(mobility_serie.index.get_level_values(0).tolist())\n",
    "val = mobility_serie.values\n",
    "adj_matrix_crs = sparse.csr_matrix((val.flatten(), (row, col)))"
   ]
  },
  {
   "cell_type": "code",
   "execution_count": null,
   "metadata": {},
   "outputs": [],
   "source": [
    "l = len(df.index)-1\n",
    "for i, (index, row) in enumerate(mobility_serie.iterrows()):\n",
    "    adj_matrix_crs[node_position[index[1]],node_position[index[0]]] = row[0]\n",
    "    adj_matrix_csc[node_position[index[1]],node_position[index[0]]] = row[0]\n",
    "    if(i%1000==0):\n",
    "        progressBar(i, l)\n",
    "progressBar(l, l)\n",
    "sparse.save_npz('adj_crs', adj_matrix_crs)\n",
    "sparse.save_npz('adj_csc', adj_matrix_csc)\n"
   ]
  },
  {
   "cell_type": "code",
   "execution_count": null,
   "metadata": {},
   "outputs": [],
   "source": [
    "adj_matrix_crs= sparse.load_npz('adj_crs.npz')\n",
    "adj_matrix_csc= sparse.load_npz('adj_csc.npz')\n"
   ]
  },
  {
   "cell_type": "code",
   "execution_count": null,
   "metadata": {},
   "outputs": [],
   "source": [
    "df.groupby('Field of Education').ngroups"
   ]
  },
  {
   "cell_type": "code",
   "execution_count": null,
   "metadata": {},
   "outputs": [],
   "source": [
    "print((mobility_serie))"
   ]
  }
 ],
 "metadata": {
  "interpreter": {
   "hash": "81216a00e87de3644468e89fc1953fa1003fc6eb0b10b1ab2fbdfc367991563d"
  },
  "kernelspec": {
   "display_name": "Python 3",
   "language": "python",
   "name": "python3"
  },
  "language_info": {
   "codemirror_mode": {
    "name": "ipython",
    "version": 3
   },
   "file_extension": ".py",
   "mimetype": "text/x-python",
   "name": "python",
   "nbconvert_exporter": "python",
   "pygments_lexer": "ipython3",
   "version": "3.8.8"
  }
 },
 "nbformat": 4,
 "nbformat_minor": 2
}
