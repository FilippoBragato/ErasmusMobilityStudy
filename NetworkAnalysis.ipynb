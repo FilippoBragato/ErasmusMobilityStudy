{
 "cells": [
  {
   "cell_type": "markdown",
   "metadata": {},
   "source": [
    "Import needed stuff"
   ]
  },
  {
   "cell_type": "code",
   "execution_count": 22,
   "metadata": {},
   "outputs": [],
   "source": [
    "import requests\n",
    "import sys\n",
    "import pandas as pd\n",
    "import numpy as np\n",
    "from scipy import sparse\n",
    "from io import StringIO\n",
    "# Stupid funny thing\n",
    "def progressBar(current, total, barLength = 20):\n",
    "    percent = float(current) * 100 / total\n",
    "    arrow   = '-' * int(percent/100 * barLength - 1) + '>'\n",
    "    spaces  = ' ' * (barLength - len(arrow))\n",
    "    sys.stdout.write('\\rProgress: [%s%s] %d %%' % (arrow, spaces, percent))"
   ]
  },
  {
   "cell_type": "markdown",
   "metadata": {},
   "source": [
    "Downloading data by http request"
   ]
  },
  {
   "cell_type": "code",
   "execution_count": 2,
   "metadata": {},
   "outputs": [],
   "source": [
    "reply = requests.get('https://data.europa.eu/euodp/data/storage/f/2020-08-11T140550/Finalised%20mobilities%20started%20in%202018%20-%20KA1.csv')"
   ]
  },
  {
   "cell_type": "markdown",
   "metadata": {},
   "source": [
    "Transfer in pandas"
   ]
  },
  {
   "cell_type": "code",
   "execution_count": 28,
   "metadata": {},
   "outputs": [
    {
     "name": "stdout",
     "output_type": "stream",
     "text": [
      "0 Project Reference\n",
      "1 Academic Year\n",
      "2 Mobility Start Month\n",
      "3 Mobility End Month\n",
      "4 Mobility Duration\n",
      "5 Activity (mob)\n",
      "6 Field of Education\n",
      "7 Participant Nationality\n",
      "8 Education Level\n",
      "9 Participant Gender\n",
      "10 Participant Profile\n",
      "11 Special Needs\n",
      "12 Fewer Opportunities\n",
      "13 Participant Age\n",
      "14 Sending Country Code\n",
      "15 Sending City\n",
      "16 Sending Organization\n",
      "17 Receiving Country Code\n",
      "18 Receiving City\n",
      "19 Receiving Organization\n",
      "20 Participants\n"
     ]
    }
   ],
   "source": [
    "csv_data = reply.text.lstrip('ï»¿')\n",
    "df = pd.read_csv(StringIO(csv_data), sep=';',low_memory=False)\n",
    "for i, name in enumerate(df.columns):\n",
    "    print(i, name)"
   ]
  },
  {
   "cell_type": "markdown",
   "metadata": {},
   "source": [
    "## Mobility network\n",
    "Simply focused on the number of the excange"
   ]
  },
  {
   "cell_type": "code",
   "execution_count": 56,
   "metadata": {},
   "outputs": [
    {
     "name": "stdout",
     "output_type": "stream",
     "text": [
      "Progress: [------------------->] 100 %"
     ]
    }
   ],
   "source": [
    "mobility_df = df.loc[:, df.columns[np.array((16, 19, 20))]]\n",
    "nodes = np.array(list(set.union(set(mobility_df.loc[:, mobility_df.columns[0]]), set(mobility_df.loc[:, mobility_df.columns[1]]))))\n",
    "# I don't want it to take forever\n",
    "node_position = {}\n",
    "for i, name in enumerate(nodes):\n",
    "    node_position[name] = i\n",
    "# Adjacency matrix\n",
    "adj_matrix_crs = sparse.csr_matrix((nodes.size, nodes.size),dtype=int)\n",
    "adj_matrix_csc = sparse.csc_matrix((nodes.size, nodes.size),dtype=int)\n",
    "\n",
    "l = len(df.index)-1\n",
    "for index, row in mobility_df.iterrows():\n",
    "    adj_matrix_crs[node_position[row['Receiving Organization']],node_position[row['Sending Organization']]] += row['Participants']\n",
    "    adj_matrix_csc[node_position[row['Receiving Organization']],node_position[row['Sending Organization']]] += row['Participants']\n",
    "    if(index%1000==0):\n",
    "        progressBar(index, l)\n",
    "progressBar(l, l)\n",
    "sparse.save_npz('adj_crs', adj_matrix_crs)\n",
    "sparse.save_npz('adj_csc', adj_matrix_csc)\n"
   ]
  },
  {
   "cell_type": "code",
   "execution_count": 55,
   "metadata": {},
   "outputs": [],
   "source": [
    "adj_matrix_crs= sparse.load_npz('adj_crs.npz')\n",
    "adj_matrix_csc= sparse.load_npz('adj_csc.npz')\n"
   ]
  },
  {
   "cell_type": "code",
   "execution_count": 57,
   "metadata": {},
   "outputs": [
    {
     "name": "stdout",
     "output_type": "stream",
     "text": [
      "Progress: [>                   ] 0 %"
     ]
    },
    {
     "ename": "KeyboardInterrupt",
     "evalue": "",
     "output_type": "error",
     "traceback": [
      "\u001b[1;31m---------------------------------------------------------------------------\u001b[0m",
      "\u001b[1;31mKeyboardInterrupt\u001b[0m                         Traceback (most recent call last)",
      "\u001b[1;32m~\\AppData\\Local\\Temp/ipykernel_13976/4014476097.py\u001b[0m in \u001b[0;36m<module>\u001b[1;34m\u001b[0m\n\u001b[0;32m      1\u001b[0m \u001b[1;32mfor\u001b[0m \u001b[0mi\u001b[0m \u001b[1;32min\u001b[0m \u001b[0mrange\u001b[0m\u001b[1;33m(\u001b[0m\u001b[1;36m1000000\u001b[0m\u001b[1;33m)\u001b[0m\u001b[1;33m:\u001b[0m\u001b[1;33m\u001b[0m\u001b[1;33m\u001b[0m\u001b[0m\n\u001b[1;32m----> 2\u001b[1;33m     \u001b[0mprogressBar\u001b[0m\u001b[1;33m(\u001b[0m\u001b[0mi\u001b[0m\u001b[1;33m,\u001b[0m \u001b[1;36m999999\u001b[0m\u001b[1;33m)\u001b[0m\u001b[1;33m\u001b[0m\u001b[1;33m\u001b[0m\u001b[0m\n\u001b[0m",
      "\u001b[1;32m~\\AppData\\Local\\Temp/ipykernel_13976/2304875522.py\u001b[0m in \u001b[0;36mprogressBar\u001b[1;34m(current, total, barLength)\u001b[0m\n\u001b[0;32m      7\u001b[0m     \u001b[1;33m(\u001b[0m\u001b[0mstr\u001b[0m\u001b[1;33m(\u001b[0m\u001b[0mi\u001b[0m\u001b[1;33m)\u001b[0m\u001b[1;33m)\u001b[0m \u001b[1;31m# or print(i, flush=True) ?\u001b[0m\u001b[1;33m\u001b[0m\u001b[1;33m\u001b[0m\u001b[0m\n\u001b[0;32m      8\u001b[0m     \u001b[0msys\u001b[0m\u001b[1;33m.\u001b[0m\u001b[0mstdout\u001b[0m\u001b[1;33m.\u001b[0m\u001b[0mwrite\u001b[0m\u001b[1;33m(\u001b[0m\u001b[1;34m'\\rProgress: [%s%s] %d %%'\u001b[0m \u001b[1;33m%\u001b[0m \u001b[1;33m(\u001b[0m\u001b[0marrow\u001b[0m\u001b[1;33m,\u001b[0m \u001b[0mspaces\u001b[0m\u001b[1;33m,\u001b[0m \u001b[0mpercent\u001b[0m\u001b[1;33m)\u001b[0m\u001b[1;33m)\u001b[0m\u001b[1;33m\u001b[0m\u001b[1;33m\u001b[0m\u001b[0m\n\u001b[1;32m----> 9\u001b[1;33m     \u001b[0mtime\u001b[0m\u001b[1;33m.\u001b[0m\u001b[0msleep\u001b[0m\u001b[1;33m(\u001b[0m\u001b[1;36m0.001\u001b[0m\u001b[1;33m)\u001b[0m\u001b[1;33m\u001b[0m\u001b[1;33m\u001b[0m\u001b[0m\n\u001b[0m\u001b[0;32m     10\u001b[0m \u001b[1;32mfor\u001b[0m \u001b[0mi\u001b[0m \u001b[1;32min\u001b[0m \u001b[0mrange\u001b[0m\u001b[1;33m(\u001b[0m\u001b[1;36m1000\u001b[0m\u001b[1;33m)\u001b[0m\u001b[1;33m:\u001b[0m\u001b[1;33m\u001b[0m\u001b[1;33m\u001b[0m\u001b[0m\n\u001b[0;32m     11\u001b[0m     \u001b[0mprogressBar\u001b[0m\u001b[1;33m(\u001b[0m\u001b[0mi\u001b[0m\u001b[1;33m,\u001b[0m \u001b[1;36m1000\u001b[0m\u001b[1;33m)\u001b[0m\u001b[1;33m\u001b[0m\u001b[1;33m\u001b[0m\u001b[0m\n",
      "\u001b[1;31mKeyboardInterrupt\u001b[0m: "
     ]
    }
   ],
   "source": [
    "for i in range(1000):\n",
    "    progressBar(i, 999)"
   ]
  }
 ],
 "metadata": {
  "interpreter": {
   "hash": "81216a00e87de3644468e89fc1953fa1003fc6eb0b10b1ab2fbdfc367991563d"
  },
  "kernelspec": {
   "display_name": "Python 3.9.1 64-bit",
   "language": "python",
   "name": "python3"
  },
  "language_info": {
   "codemirror_mode": {
    "name": "ipython",
    "version": 3
   },
   "file_extension": ".py",
   "mimetype": "text/x-python",
   "name": "python",
   "nbconvert_exporter": "python",
   "pygments_lexer": "ipython3",
   "version": "3.9.1"
  },
  "orig_nbformat": 4
 },
 "nbformat": 4,
 "nbformat_minor": 2
}
