{
 "cells": [
  {
   "cell_type": "code",
   "execution_count": 1,
   "metadata": {},
   "outputs": [
    {
     "name": "stdout",
     "output_type": "stream",
     "text": [
      "0 Project Reference\n",
      "1 Academic Year\n",
      "2 Mobility Start Month\n",
      "3 Mobility End Month\n",
      "4 Mobility Duration\n",
      "5 Activity (mob)\n",
      "6 Field of Education\n",
      "7 Participant Nationality\n",
      "8 Education Level\n",
      "9 Participant Gender\n",
      "10 Participant Profile\n",
      "11 Special Needs\n",
      "12 Fewer Opportunities\n",
      "13 Participant Age\n",
      "14 Sending Country Code\n",
      "15 Sending City\n",
      "16 Sending Organization\n",
      "17 Receiving Country Code\n",
      "18 Receiving City\n",
      "19 Receiving Organization\n",
      "20 Participants\n"
     ]
    }
   ],
   "source": [
    "import requests\n",
    "import sys\n",
    "import pandas as pd\n",
    "import numpy as np\n",
    "from scipy import sparse\n",
    "from io import StringIO\n",
    "import networkscience as ns\n",
    "from matplotlib import pyplot as plt\n",
    "import seaborn as sns\n",
    "reply = requests.get('https://data.europa.eu/euodp/data/storage/f/2020-08-11T140550/Finalised%20mobilities%20started%20in%202018%20-%20KA1.csv')\n",
    "reply.encoding = 'utf-8'\n",
    "csv_data = reply.text\n",
    "df = pd.read_csv(StringIO(csv_data), sep=';',low_memory=False, header=0)\n",
    "for i, name in enumerate(df.columns):\n",
    "    print(i, name)"
   ]
  },
  {
   "cell_type": "code",
   "execution_count": 2,
   "metadata": {},
   "outputs": [
    {
     "name": "stdout",
     "output_type": "stream",
     "text": [
      "141\n"
     ]
    }
   ],
   "source": [
    "mobility_df = df[df[df.columns[10]]=='Learner']\n",
    "mobility_df = mobility_df[mobility_df['Activity (mob)'].str.contains('Student')]\n",
    "mobility_df = mobility_df[~mobility_df['Activity (mob)'].str.contains('traineeship')]\n",
    "# consideriamo solo l'anno accademico 2018/2019 o 2017/2018?\n",
    "# i numeri cambiano parecchio di anno in anno, è normale?\n",
    "#mobility_df = mobility_df[mobility_df['Academic Year'].str.contains('19')]\n",
    "mobility_df = mobility_df.loc[:, df.columns[np.array((16, 19, 20, 5, 14, 6))]]\n",
    "print((mobility_df['Field of Education'].nunique())) \n",
    "mobility_df['Sending Organization'] = mobility_df['Sending Organization'].str.upper()\n",
    "mobility_df['Receiving Organization'] = mobility_df['Receiving Organization'].str.upper()"
   ]
  },
  {
   "cell_type": "code",
   "execution_count": 3,
   "metadata": {},
   "outputs": [
    {
     "data": {
      "text/html": [
       "<div>\n",
       "<style scoped>\n",
       "    .dataframe tbody tr th:only-of-type {\n",
       "        vertical-align: middle;\n",
       "    }\n",
       "\n",
       "    .dataframe tbody tr th {\n",
       "        vertical-align: top;\n",
       "    }\n",
       "\n",
       "    .dataframe thead th {\n",
       "        text-align: right;\n",
       "    }\n",
       "</style>\n",
       "<table border=\"1\" class=\"dataframe\">\n",
       "  <thead>\n",
       "    <tr style=\"text-align: right;\">\n",
       "      <th></th>\n",
       "      <th>Sending Organization</th>\n",
       "      <th>Receiving Organization</th>\n",
       "      <th>Participants</th>\n",
       "      <th>Sending Country Code</th>\n",
       "      <th>Field of Education</th>\n",
       "    </tr>\n",
       "  </thead>\n",
       "  <tbody>\n",
       "    <tr>\n",
       "      <th>174</th>\n",
       "      <td>VORARLBERGER LANDESKONSERVATORIUM</td>\n",
       "      <td>LUNDS UNIVERSITET</td>\n",
       "      <td>1</td>\n",
       "      <td>AT</td>\n",
       "      <td>Music and performing arts</td>\n",
       "    </tr>\n",
       "    <tr>\n",
       "      <th>195</th>\n",
       "      <td>NATIONAL MINING UNIVERSITY</td>\n",
       "      <td>MONTANUNIVERSITAT LEOBEN</td>\n",
       "      <td>1</td>\n",
       "      <td>UA</td>\n",
       "      <td>Environmental protection technology</td>\n",
       "    </tr>\n",
       "    <tr>\n",
       "      <th>196</th>\n",
       "      <td>NATIONAL MINING UNIVERSITY</td>\n",
       "      <td>MONTANUNIVERSITAT LEOBEN</td>\n",
       "      <td>1</td>\n",
       "      <td>UA</td>\n",
       "      <td>Electronics and automation</td>\n",
       "    </tr>\n",
       "    <tr>\n",
       "      <th>197</th>\n",
       "      <td>NATIONAL MINING UNIVERSITY</td>\n",
       "      <td>MONTANUNIVERSITAT LEOBEN</td>\n",
       "      <td>1</td>\n",
       "      <td>UA</td>\n",
       "      <td>Mechanics and metal trades</td>\n",
       "    </tr>\n",
       "    <tr>\n",
       "      <th>198</th>\n",
       "      <td>MONTANUNIVERSITAT LEOBEN</td>\n",
       "      <td>THE NATIONAL MINERAL RESOURCES UNIVERSITY (THE...</td>\n",
       "      <td>1</td>\n",
       "      <td>AT</td>\n",
       "      <td>Mining and extraction</td>\n",
       "    </tr>\n",
       "    <tr>\n",
       "      <th>...</th>\n",
       "      <td>...</td>\n",
       "      <td>...</td>\n",
       "      <td>...</td>\n",
       "      <td>...</td>\n",
       "      <td>...</td>\n",
       "    </tr>\n",
       "    <tr>\n",
       "      <th>667190</th>\n",
       "      <td>UNIVERSITY COLLEGE LONDON</td>\n",
       "      <td>FEDERAL STATE AUTONOMOUS EDUCATIONAL INSTITUTI...</td>\n",
       "      <td>1</td>\n",
       "      <td>UK</td>\n",
       "      <td>Political sciences and civics</td>\n",
       "    </tr>\n",
       "    <tr>\n",
       "      <th>667191</th>\n",
       "      <td>UNIVERSITY COLLEGE LONDON</td>\n",
       "      <td>FEDERAL STATE AUTONOMOUS EDUCATIONAL INSTITUTI...</td>\n",
       "      <td>1</td>\n",
       "      <td>UK</td>\n",
       "      <td>Political sciences and civics</td>\n",
       "    </tr>\n",
       "    <tr>\n",
       "      <th>667192</th>\n",
       "      <td>FEDERAL STATE AUTONOMOUS EDUCATIONAL INSTITUTI...</td>\n",
       "      <td>UNIVERSITY COLLEGE LONDON</td>\n",
       "      <td>1</td>\n",
       "      <td>RU</td>\n",
       "      <td>Economics</td>\n",
       "    </tr>\n",
       "    <tr>\n",
       "      <th>667193</th>\n",
       "      <td>UNIVERSITY COLLEGE LONDON</td>\n",
       "      <td>THE HEBREW UNIVERSITY OF JERUSALEM</td>\n",
       "      <td>1</td>\n",
       "      <td>UK</td>\n",
       "      <td>Arts and humanities, inter-disciplinary progra...</td>\n",
       "    </tr>\n",
       "    <tr>\n",
       "      <th>667194</th>\n",
       "      <td>UNIVERSITY COLLEGE LONDON</td>\n",
       "      <td>FEDERAL STATE AUTONOMOUS EDUCATIONAL INSTITUTI...</td>\n",
       "      <td>2</td>\n",
       "      <td>UK</td>\n",
       "      <td>Languages, not further defined</td>\n",
       "    </tr>\n",
       "  </tbody>\n",
       "</table>\n",
       "<p>234608 rows × 5 columns</p>\n",
       "</div>"
      ],
      "text/plain": [
       "                                     Sending Organization  \\\n",
       "174                     VORARLBERGER LANDESKONSERVATORIUM   \n",
       "195                            NATIONAL MINING UNIVERSITY   \n",
       "196                            NATIONAL MINING UNIVERSITY   \n",
       "197                            NATIONAL MINING UNIVERSITY   \n",
       "198                              MONTANUNIVERSITAT LEOBEN   \n",
       "...                                                   ...   \n",
       "667190                          UNIVERSITY COLLEGE LONDON   \n",
       "667191                          UNIVERSITY COLLEGE LONDON   \n",
       "667192  FEDERAL STATE AUTONOMOUS EDUCATIONAL INSTITUTI...   \n",
       "667193                          UNIVERSITY COLLEGE LONDON   \n",
       "667194                          UNIVERSITY COLLEGE LONDON   \n",
       "\n",
       "                                   Receiving Organization  Participants  \\\n",
       "174                                     LUNDS UNIVERSITET             1   \n",
       "195                              MONTANUNIVERSITAT LEOBEN             1   \n",
       "196                              MONTANUNIVERSITAT LEOBEN             1   \n",
       "197                              MONTANUNIVERSITAT LEOBEN             1   \n",
       "198     THE NATIONAL MINERAL RESOURCES UNIVERSITY (THE...             1   \n",
       "...                                                   ...           ...   \n",
       "667190  FEDERAL STATE AUTONOMOUS EDUCATIONAL INSTITUTI...             1   \n",
       "667191  FEDERAL STATE AUTONOMOUS EDUCATIONAL INSTITUTI...             1   \n",
       "667192                          UNIVERSITY COLLEGE LONDON             1   \n",
       "667193                 THE HEBREW UNIVERSITY OF JERUSALEM             1   \n",
       "667194  FEDERAL STATE AUTONOMOUS EDUCATIONAL INSTITUTI...             2   \n",
       "\n",
       "       Sending Country Code                                 Field of Education  \n",
       "174                      AT                          Music and performing arts  \n",
       "195                      UA                Environmental protection technology  \n",
       "196                      UA                         Electronics and automation  \n",
       "197                      UA                         Mechanics and metal trades  \n",
       "198                      AT                              Mining and extraction  \n",
       "...                     ...                                                ...  \n",
       "667190                   UK                      Political sciences and civics  \n",
       "667191                   UK                      Political sciences and civics  \n",
       "667192                   RU                                          Economics  \n",
       "667193                   UK  Arts and humanities, inter-disciplinary progra...  \n",
       "667194                   UK                     Languages, not further defined  \n",
       "\n",
       "[234608 rows x 5 columns]"
      ]
     },
     "metadata": {},
     "output_type": "display_data"
    }
   ],
   "source": [
    "mobility_df.drop('Activity (mob)',axis=1, inplace=True)\n",
    "display(mobility_df)"
   ]
  },
  {
   "cell_type": "code",
   "execution_count": 4,
   "metadata": {},
   "outputs": [],
   "source": [
    "mobility_df['Field of Education'] = mobility_df['Field of Education'].str.replace(', not further defined','')\n",
    "mobility_df['Field of Education'] = mobility_df['Field of Education'].str.replace(', inter-disciplinary programmes','')\n",
    "mobility_df['Field of Education'] = mobility_df['Field of Education'].str.replace(', not elsewhere classified','')\n",
    "mobility_df['Field of Education'] = mobility_df['Field of Education'].str.replace(' not elsewhere classified','')\n",
    "mobility_df['Field of Education'] = mobility_df['Field of Education'].str.replace(', not elsewhere classifed','')\n",
    "mobility_df['Field of Education'] = mobility_df['Field of Education'].str.replace('Inter-disciplinary programmes and qualifications involving ','')\n",
    "mobility_df['Field of Education'] = mobility_df['Field of Education'].str.lower()\n",
    "mobility_df['Field of Education'] = mobility_df['Field of Education'].str.strip()"
   ]
  },
  {
   "cell_type": "code",
   "execution_count": 5,
   "metadata": {},
   "outputs": [
    {
     "name": "stdout",
     "output_type": "stream",
     "text": [
      "106\n",
      "['accounting and taxation' 'agriculture'\n",
      " 'agriculture, forestry, fisheries and veterinary'\n",
      " 'architecture and construction' 'architecture and town planning' 'arts'\n",
      " 'arts and humanities' 'audio-visual techniques and media production'\n",
      " 'biochemistry' 'biological and related sciences' 'biology'\n",
      " 'building and civil engineering' 'business and administration'\n",
      " 'business, administration and law'\n",
      " 'care of the elderly and of disabled adults'\n",
      " 'chemical engineering and processes' 'chemistry'\n",
      " 'child care and youth services' 'community sanitation' 'computer use'\n",
      " 'crop and livestock production'\n",
      " 'database and network design and administration' 'dental studies'\n",
      " 'domestic services' 'earth sciences' 'economics' 'education'\n",
      " 'education science' 'electricity and energy' 'electronics and automation'\n",
      " 'engineering and engineering trades'\n",
      " 'engineering, manufacturing and construction' 'environment'\n",
      " 'environmental protection technology' 'environmental sciences'\n",
      " 'fashion, interior and industrial design'\n",
      " 'finance, banking and insurance' 'fine arts' 'fisheries'\n",
      " 'food processing' 'forestry' 'hair and beauty services' 'handicrafts'\n",
      " 'health' 'health and welfare' 'history and archaeology' 'horticulture'\n",
      " 'hotel, restaurants and catering' 'humanities (except languages)'\n",
      " 'hygiene and occupational health services'\n",
      " 'information and communication technologies (icts)'\n",
      " 'journalism and information' 'journalism and reporting'\n",
      " 'language acquisition' 'languages' 'law'\n",
      " 'library, information and archival studies' 'literature and linguistics'\n",
      " 'management and administration' 'manufacturing and processing'\n",
      " 'marketing and advertising' 'materials (glass, paper, plastic and wood)'\n",
      " 'mathematics' 'mathematics and statistics' 'mechanics and metal trades'\n",
      " 'medical diagnostic and treatment technology' 'medicine'\n",
      " 'military and defence' 'mining and extraction'\n",
      " 'motor vehicles, ships and aircraft' 'music and performing arts'\n",
      " 'natural environments and wildlife'\n",
      " 'natural sciences, mathematics and statistics' 'nursing and midwifery'\n",
      " 'occupational health and safety' 'personal services' 'pharmacy'\n",
      " 'philosophy and ethics' 'physical sciences' 'physics'\n",
      " 'political sciences and civics' 'protection of persons and property'\n",
      " 'psychology' 'religion and theology' 'secretarial and office work'\n",
      " 'security services' 'services' 'social and behavioural sciences'\n",
      " 'social sciences, journalism and information'\n",
      " 'social work and counselling' 'sociology and cultural studies'\n",
      " 'software and applications development and analysis' 'sports'\n",
      " 'statistics' 'teacher training with subject specialization'\n",
      " 'teacher training without subject specialization'\n",
      " 'textiles (clothes, footwear and leather)' 'therapy and rehabilitation'\n",
      " 'traditional and complementary medicine and therapy'\n",
      " 'training for pre-school teachers' 'transport services'\n",
      " 'travel, tourism and leisure' 'veterinary' 'welfare'\n",
      " 'wholesale and retail sales' 'work skills']\n"
     ]
    }
   ],
   "source": [
    "print(mobility_df['Field of Education'].nunique())\n",
    "print(np.sort(mobility_df['Field of Education'].unique()))"
   ]
  },
  {
   "cell_type": "code",
   "execution_count": 6,
   "metadata": {},
   "outputs": [
    {
     "name": "stdout",
     "output_type": "stream",
     "text": [
      "0.9936995471549518\n"
     ]
    }
   ],
   "source": [
    "nodes = np.array(list(set.union(set(mobility_df.loc[:, mobility_df.columns[0]]), set(mobility_df.loc[:, mobility_df.columns[1]]))))\n",
    "node_position = {}\n",
    "for i, name in enumerate(nodes):\n",
    "    node_position[name] = i\n",
    "nodes_df = pd.DataFrame({'Nodes': nodes})\n",
    "mobility_df['SendId'] = (np.array(list(map(lambda x: node_position[x], mobility_df['Sending Organization']))))\n",
    "mobility_df['RecId']= (np.array(list(map(lambda x: node_position[x], mobility_df['Receiving Organization']))))\n",
    "# Adjacency matrix\n",
    "mobility_serie = mobility_df.groupby(['SendId', 'RecId']).sum()\n",
    "row = np.array(mobility_serie.index.get_level_values(1).tolist())\n",
    "col = np.array(mobility_serie.index.get_level_values(0).tolist())\n",
    "val = mobility_serie.values\n",
    "adj_matrix_crs = sparse.csr_matrix((val.flatten(), (row, col)), shape=(nodes.size, nodes.size))\n",
    "print(ns.fraction_in_giant(adj_matrix_crs))"
   ]
  },
  {
   "cell_type": "code",
   "execution_count": 7,
   "metadata": {},
   "outputs": [
    {
     "name": "stdout",
     "output_type": "stream",
     "text": [
      "Top 10 for percentage\n"
     ]
    },
    {
     "data": {
      "text/html": [
       "<div>\n",
       "<style scoped>\n",
       "    .dataframe tbody tr th:only-of-type {\n",
       "        vertical-align: middle;\n",
       "    }\n",
       "\n",
       "    .dataframe tbody tr th {\n",
       "        vertical-align: top;\n",
       "    }\n",
       "\n",
       "    .dataframe thead th {\n",
       "        text-align: right;\n",
       "    }\n",
       "</style>\n",
       "<table border=\"1\" class=\"dataframe\">\n",
       "  <thead>\n",
       "    <tr style=\"text-align: right;\">\n",
       "      <th></th>\n",
       "      <th>percentage</th>\n",
       "    </tr>\n",
       "  </thead>\n",
       "  <tbody>\n",
       "    <tr>\n",
       "      <th>business and administration</th>\n",
       "      <td>0.403032</td>\n",
       "    </tr>\n",
       "    <tr>\n",
       "      <th>engineering and engineering trades</th>\n",
       "      <td>0.290805</td>\n",
       "    </tr>\n",
       "    <tr>\n",
       "      <th>management and administration</th>\n",
       "      <td>0.285095</td>\n",
       "    </tr>\n",
       "    <tr>\n",
       "      <th>economics</th>\n",
       "      <td>0.281355</td>\n",
       "    </tr>\n",
       "    <tr>\n",
       "      <th>information and communication technologies (icts)</th>\n",
       "      <td>0.252018</td>\n",
       "    </tr>\n",
       "    <tr>\n",
       "      <th>languages</th>\n",
       "      <td>0.235479</td>\n",
       "    </tr>\n",
       "    <tr>\n",
       "      <th>political sciences and civics</th>\n",
       "      <td>0.208309</td>\n",
       "    </tr>\n",
       "    <tr>\n",
       "      <th>literature and linguistics</th>\n",
       "      <td>0.183698</td>\n",
       "    </tr>\n",
       "    <tr>\n",
       "      <th>law</th>\n",
       "      <td>0.179563</td>\n",
       "    </tr>\n",
       "    <tr>\n",
       "      <th>arts</th>\n",
       "      <td>0.177200</td>\n",
       "    </tr>\n",
       "  </tbody>\n",
       "</table>\n",
       "</div>"
      ],
      "text/plain": [
       "                                                   percentage\n",
       "business and administration                          0.403032\n",
       "engineering and engineering trades                   0.290805\n",
       "management and administration                        0.285095\n",
       "economics                                            0.281355\n",
       "information and communication technologies (icts)    0.252018\n",
       "languages                                            0.235479\n",
       "political sciences and civics                        0.208309\n",
       "literature and linguistics                           0.183698\n",
       "law                                                  0.179563\n",
       "arts                                                 0.177200"
      ]
     },
     "metadata": {},
     "output_type": "display_data"
    }
   ],
   "source": [
    "dd = {}\n",
    "for field in mobility_df['Field of Education'].unique():\n",
    "    temp_df = mobility_df.loc[mobility_df['Field of Education'] == field]\n",
    "    temp_serie = temp_df.groupby(['SendId', 'RecId']).sum()\n",
    "    row = np.array(temp_serie.index.get_level_values(1).tolist())\n",
    "    col = np.array(temp_serie.index.get_level_values(0).tolist())\n",
    "    val = temp_serie.values\n",
    "    temp_adj = sparse.csr_matrix((val.flatten(), (row, col)), shape=(nodes.size, nodes.size))\n",
    "    dd[field] = ns.fraction_in_giant(temp_adj)\n",
    "field_df = pd.DataFrame.from_dict(dd, orient='index', columns=['percentage'])\n",
    "print('Top', 10, 'for', 'percentage')\n",
    "pd.set_option('display.max_rows', 10)\n",
    "field_df = field_df.sort_values('percentage', ascending=False)\n",
    "display(field_df.head(10))"
   ]
  },
  {
   "cell_type": "markdown",
   "metadata": {},
   "source": [
    "TODO: Add an iterative version of it, checking if 2 or more field of education can get a percentage of nodes in the giant component close to the one with all the edges (99.36%).\n",
    "You can also work in the other way around iteratively deleting edges of one field "
   ]
  },
  {
   "cell_type": "code",
   "execution_count": 8,
   "metadata": {},
   "outputs": [
    {
     "name": "stdout",
     "output_type": "stream",
     "text": [
      "5166281\n"
     ]
    }
   ],
   "source": [
    "import itertools\n",
    "fields = mobility_df['Field of Education'].unique()\n",
    "subsets = []\n",
    "for L in range(1,5):\n",
    "    for subset in itertools.combinations(fields, L):\n",
    "        subsets +=[subset,]\n",
    "print(len(subsets))"
   ]
  },
  {
   "cell_type": "markdown",
   "metadata": {},
   "source": [
    "Let's try removing fields."
   ]
  },
  {
   "cell_type": "code",
   "execution_count": 9,
   "metadata": {},
   "outputs": [
    {
     "name": "stdout",
     "output_type": "stream",
     "text": [
      "Percentages removing 1 field of education:\n",
      "Bottom 10 for percentage\n"
     ]
    },
    {
     "data": {
      "text/html": [
       "<div>\n",
       "<style scoped>\n",
       "    .dataframe tbody tr th:only-of-type {\n",
       "        vertical-align: middle;\n",
       "    }\n",
       "\n",
       "    .dataframe tbody tr th {\n",
       "        vertical-align: top;\n",
       "    }\n",
       "\n",
       "    .dataframe thead th {\n",
       "        text-align: right;\n",
       "    }\n",
       "</style>\n",
       "<table border=\"1\" class=\"dataframe\">\n",
       "  <thead>\n",
       "    <tr style=\"text-align: right;\">\n",
       "      <th></th>\n",
       "      <th>percentage</th>\n",
       "    </tr>\n",
       "  </thead>\n",
       "  <tbody>\n",
       "    <tr>\n",
       "      <th>music and performing arts</th>\n",
       "      <td>0.954912</td>\n",
       "    </tr>\n",
       "    <tr>\n",
       "      <th>business and administration</th>\n",
       "      <td>0.963576</td>\n",
       "    </tr>\n",
       "    <tr>\n",
       "      <th>engineering and engineering trades</th>\n",
       "      <td>0.974011</td>\n",
       "    </tr>\n",
       "    <tr>\n",
       "      <th>languages</th>\n",
       "      <td>0.983461</td>\n",
       "    </tr>\n",
       "    <tr>\n",
       "      <th>economics</th>\n",
       "      <td>0.983658</td>\n",
       "    </tr>\n",
       "    <tr>\n",
       "      <th>information and communication technologies (icts)</th>\n",
       "      <td>0.983658</td>\n",
       "    </tr>\n",
       "    <tr>\n",
       "      <th>nursing and midwifery</th>\n",
       "      <td>0.984840</td>\n",
       "    </tr>\n",
       "    <tr>\n",
       "      <th>management and administration</th>\n",
       "      <td>0.985430</td>\n",
       "    </tr>\n",
       "    <tr>\n",
       "      <th>agriculture</th>\n",
       "      <td>0.986415</td>\n",
       "    </tr>\n",
       "    <tr>\n",
       "      <th>political sciences and civics</th>\n",
       "      <td>0.987202</td>\n",
       "    </tr>\n",
       "  </tbody>\n",
       "</table>\n",
       "</div>"
      ],
      "text/plain": [
       "                                                   percentage\n",
       "music and performing arts                            0.954912\n",
       "business and administration                          0.963576\n",
       "engineering and engineering trades                   0.974011\n",
       "languages                                            0.983461\n",
       "economics                                            0.983658\n",
       "information and communication technologies (icts)    0.983658\n",
       "nursing and midwifery                                0.984840\n",
       "management and administration                        0.985430\n",
       "agriculture                                          0.986415\n",
       "political sciences and civics                        0.987202"
      ]
     },
     "metadata": {},
     "output_type": "display_data"
    }
   ],
   "source": [
    "fields = mobility_df['Field of Education'].unique()\n",
    "dd = {}\n",
    "for field in fields:\n",
    "    temp_df = mobility_df.loc[mobility_df['Field of Education'] != field]\n",
    "    temp_serie = temp_df.groupby(['SendId', 'RecId']).sum()\n",
    "    row = np.array(temp_serie.index.get_level_values(1).tolist())\n",
    "    col = np.array(temp_serie.index.get_level_values(0).tolist())\n",
    "    val = temp_serie.values\n",
    "    temp_adj = sparse.csr_matrix((val.flatten(), (row, col)), shape=(nodes.size, nodes.size))\n",
    "    dd[field] = ns.fraction_in_giant(temp_adj)\n",
    "field_df = pd.DataFrame.from_dict(dd, orient='index', columns=['percentage'])\n",
    "field_df = field_df.sort_values('percentage')\n",
    "print('Percentages removing 1 field of education:')\n",
    "print('Bottom 10 for percentage')\n",
    "display(field_df.head(10))"
   ]
  },
  {
   "cell_type": "markdown",
   "metadata": {},
   "source": [
    "Interestingly enough, music and performing arts seems to be the field removing which the most nodes get separated from the giant component, even though by itself it doesn't even appear in the top 10 for percentage of nodes in the giant component.\\\n",
    "I suspect this is due to the presence of conservatories and academies that only have one field of education. Let's see."
   ]
  },
  {
   "cell_type": "code",
   "execution_count": 10,
   "metadata": {},
   "outputs": [],
   "source": [
    "mobility_df.rename({'Sending Organization': 'source','Receiving Organization': 'target', 'Participants':'weight'},axis=1, inplace=True)\n",
    "nomusic_df = mobility_df.loc[mobility_df['Field of Education'] != 'music and performing arts']\n",
    "nomusic_serie = nomusic_df.groupby(['SendId', 'RecId']).sum()\n",
    "row = np.array(nomusic_serie.index.get_level_values(1).tolist())\n",
    "col = np.array(nomusic_serie.index.get_level_values(0).tolist())\n",
    "val = nomusic_serie.values\n",
    "nomusic_adj = sparse.csr_matrix((val.flatten(), (row, col)), shape=(nodes.size, nodes.size))\n",
    "new_adj, giant_edges, giant_nodes = ns.keep_giant(ns.find_components(nomusic_adj, nodes_df), nomusic_df)"
   ]
  },
  {
   "cell_type": "code",
   "execution_count": 11,
   "metadata": {},
   "outputs": [
    {
     "name": "stdout",
     "output_type": "stream",
     "text": [
      "0.9549123843276236\n",
      "['ACCADEMIA NAZIONALE D\\'ARTE DRAMMATICA \"SILVIO D\\'AMICO\"', 'AKADEMI FÖR LEDARSKAP OCH TEOLOGI', 'AKADEMIA MUZYCZNA IM. GRAZYNY I KIEJSTUTA BACEWICZOW W LODZI', 'AKADEMIA MUZYCZNA IM. KAROLA SZYMANOWSKIEGO', 'AKADEMIA MUZYCZNA IMIENIA FELIKSA NOWOWIEJSKIEGO W BYDGOSZCZY', 'AKADEMIA MUZYCZNA IMIENIA KAROLA LIPINSKIEGO WE WROCLAWIU', 'AKADEMIA MUZYCZNA W KRAKOWIE', 'AKADEMIA SZTUK TEATRALNYCH IM. STANISLAWA WYSPIANSKIEGO W KRAKOWIE', 'AKADEMIA TEATRALNA IM. ALEKSANDRA ZELWEROWICZA W WARSZAWIE', 'ANTON BRUCKNER PRIVATUNIVERSITAT']\n"
     ]
    }
   ],
   "source": [
    "print(len(giant_nodes) / len(nodes)) #double check\n",
    "music_art_institutes = set(nodes) - set(giant_nodes.Nodes)\n",
    "print(sorted(list(music_art_institutes))[:10])"
   ]
  },
  {
   "cell_type": "markdown",
   "metadata": {},
   "source": [
    "Greedy approach"
   ]
  },
  {
   "cell_type": "code",
   "execution_count": 12,
   "metadata": {},
   "outputs": [],
   "source": [
    "added_fields = []\n",
    "remaining_fields = list(mobility_df['Field of Education'].unique())\n",
    "giant_perc_add =[]\n",
    "while len(remaining_fields):\n",
    "    d = {}\n",
    "    for field in remaining_fields:\n",
    "        temp_df = mobility_df.loc[mobility_df['Field of Education'].isin(added_fields+[field])]\n",
    "        temp_serie = temp_df.groupby(['SendId', 'RecId']).sum()\n",
    "        row = np.array(temp_serie.index.get_level_values(1).tolist())\n",
    "        col = np.array(temp_serie.index.get_level_values(0).tolist())\n",
    "        val = temp_serie.values\n",
    "        temp_adj = sparse.csr_matrix((val.flatten(), (row, col)), shape=(nodes.size, nodes.size))\n",
    "        d[field] = ns.fraction_in_giant(temp_adj)\n",
    "    new_field = max(d, key=d.get)\n",
    "    added_fields.append(new_field)\n",
    "    remaining_fields.remove(new_field)\n",
    "    giant_perc_add.append(d[new_field])"
   ]
  },
  {
   "cell_type": "code",
   "execution_count": 13,
   "metadata": {},
   "outputs": [
    {
     "data": {
      "image/png": "[encoded data removed]",
      "text/plain": [
       "<Figure size 1080x576 with 1 Axes>"
      ]
     },
     "metadata": {
      "needs_background": "light"
     },
     "output_type": "display_data"
    }
   ],
   "source": [
    "fig = plt.figure(figsize=(15,8))\n",
    "plt.plot([i+1 for i in range(len(giant_perc_add))], giant_perc_add, 'bo-')\n",
    "plt.xlabel('Number of Fields of Education added', size=18)\n",
    "plt.ylabel('Percentage of nodes in the giant component', size=18)\n",
    "plt.show()"
   ]
  },
  {
   "cell_type": "code",
   "execution_count": 14,
   "metadata": {},
   "outputs": [
    {
     "name": "stdout",
     "output_type": "stream",
     "text": [
      "Adding the edges from the following fields iteratively, we get the following percentages of nodes in the giant component:\n"
     ]
    },
    {
     "data": {
      "text/html": [
       "<div>\n",
       "<style scoped>\n",
       "    .dataframe tbody tr th:only-of-type {\n",
       "        vertical-align: middle;\n",
       "    }\n",
       "\n",
       "    .dataframe tbody tr th {\n",
       "        vertical-align: top;\n",
       "    }\n",
       "\n",
       "    .dataframe thead th {\n",
       "        text-align: right;\n",
       "    }\n",
       "</style>\n",
       "<table border=\"1\" class=\"dataframe\">\n",
       "  <thead>\n",
       "    <tr style=\"text-align: right;\">\n",
       "      <th></th>\n",
       "      <th>percentage</th>\n",
       "    </tr>\n",
       "  </thead>\n",
       "  <tbody>\n",
       "    <tr>\n",
       "      <th>business and administration</th>\n",
       "      <td>0.403032</td>\n",
       "    </tr>\n",
       "    <tr>\n",
       "      <th>engineering and engineering trades</th>\n",
       "      <td>0.489270</td>\n",
       "    </tr>\n",
       "    <tr>\n",
       "      <th>arts</th>\n",
       "      <td>0.552865</td>\n",
       "    </tr>\n",
       "    <tr>\n",
       "      <th>languages</th>\n",
       "      <td>0.608191</td>\n",
       "    </tr>\n",
       "    <tr>\n",
       "      <th>music and performing arts</th>\n",
       "      <td>0.652884</td>\n",
       "    </tr>\n",
       "    <tr>\n",
       "      <th>economics</th>\n",
       "      <td>0.683796</td>\n",
       "    </tr>\n",
       "    <tr>\n",
       "      <th>information and communication technologies (icts)</th>\n",
       "      <td>0.708210</td>\n",
       "    </tr>\n",
       "    <tr>\n",
       "      <th>political sciences and civics</th>\n",
       "      <td>0.728096</td>\n",
       "    </tr>\n",
       "    <tr>\n",
       "      <th>nursing and midwifery</th>\n",
       "      <td>0.746801</td>\n",
       "    </tr>\n",
       "    <tr>\n",
       "      <th>management and administration</th>\n",
       "      <td>0.763733</td>\n",
       "    </tr>\n",
       "  </tbody>\n",
       "</table>\n",
       "</div>"
      ],
      "text/plain": [
       "                                                   percentage\n",
       "business and administration                          0.403032\n",
       "engineering and engineering trades                   0.489270\n",
       "arts                                                 0.552865\n",
       "languages                                            0.608191\n",
       "music and performing arts                            0.652884\n",
       "economics                                            0.683796\n",
       "information and communication technologies (icts)    0.708210\n",
       "political sciences and civics                        0.728096\n",
       "nursing and midwifery                                0.746801\n",
       "management and administration                        0.763733"
      ]
     },
     "metadata": {},
     "output_type": "display_data"
    }
   ],
   "source": [
    "adding_fields_df = pd.DataFrame({'percentage' : giant_perc_add}, index=added_fields).sort_values('percentage')\n",
    "print('Adding the edges from the following fields iteratively, we get the following percentages of nodes in the giant component:')\n",
    "display(adding_fields_df.head(10))"
   ]
  },
  {
   "cell_type": "code",
   "execution_count": 15,
   "metadata": {},
   "outputs": [],
   "source": [
    "removed_fields = []\n",
    "remaining_fields = list(mobility_df['Field of Education'].unique())\n",
    "giant_perc_rem =[]\n",
    "while len(remaining_fields):\n",
    "    d = {}\n",
    "    for field in remaining_fields:\n",
    "        temp_df = mobility_df.loc[~mobility_df['Field of Education'].isin(removed_fields+[field])]\n",
    "        temp_serie = temp_df.groupby(['SendId', 'RecId']).sum()\n",
    "        row = np.array(temp_serie.index.get_level_values(1).tolist())\n",
    "        col = np.array(temp_serie.index.get_level_values(0).tolist())\n",
    "        val = temp_serie.values\n",
    "        temp_adj = sparse.csr_matrix((val.flatten(), (row, col)), shape=(nodes.size, nodes.size))\n",
    "        d[field] = ns.fraction_in_giant(temp_adj)\n",
    "    new_field = min(d, key=d.get)\n",
    "    removed_fields.append(new_field)\n",
    "    remaining_fields.remove(new_field)\n",
    "    giant_perc_rem.append(d[new_field])"
   ]
  },
  {
   "cell_type": "code",
   "execution_count": 16,
   "metadata": {},
   "outputs": [
    {
     "data": {
      "image/png": "[encoded data removed]",
      "text/plain": [
       "<Figure size 1080x576 with 1 Axes>"
      ]
     },
     "metadata": {
      "needs_background": "light"
     },
     "output_type": "display_data"
    }
   ],
   "source": [
    "fig = plt.figure(figsize=(15,8))\n",
    "plt.plot([i+1 for i in range(len(giant_perc_rem))], giant_perc_rem, 'bo-')\n",
    "plt.xlabel('Number of Fields of Education removed', size=18)\n",
    "plt.ylabel('Percentage of nodes in the giant component', size=18)\n",
    "plt.show()"
   ]
  },
  {
   "cell_type": "code",
   "execution_count": 17,
   "metadata": {},
   "outputs": [
    {
     "name": "stdout",
     "output_type": "stream",
     "text": [
      "Removing the edges from the following fields iteratively, we get the following percentages of nodes in the giant component:\n"
     ]
    },
    {
     "data": {
      "text/html": [
       "<div>\n",
       "<style scoped>\n",
       "    .dataframe tbody tr th:only-of-type {\n",
       "        vertical-align: middle;\n",
       "    }\n",
       "\n",
       "    .dataframe tbody tr th {\n",
       "        vertical-align: top;\n",
       "    }\n",
       "\n",
       "    .dataframe thead th {\n",
       "        text-align: right;\n",
       "    }\n",
       "</style>\n",
       "<table border=\"1\" class=\"dataframe\">\n",
       "  <thead>\n",
       "    <tr style=\"text-align: right;\">\n",
       "      <th></th>\n",
       "      <th>percentage</th>\n",
       "    </tr>\n",
       "  </thead>\n",
       "  <tbody>\n",
       "    <tr>\n",
       "      <th>music and performing arts</th>\n",
       "      <td>0.954912</td>\n",
       "    </tr>\n",
       "    <tr>\n",
       "      <th>business and administration</th>\n",
       "      <td>0.924591</td>\n",
       "    </tr>\n",
       "    <tr>\n",
       "      <th>engineering and engineering trades</th>\n",
       "      <td>0.902934</td>\n",
       "    </tr>\n",
       "    <tr>\n",
       "      <th>economics</th>\n",
       "      <td>0.887970</td>\n",
       "    </tr>\n",
       "    <tr>\n",
       "      <th>management and administration</th>\n",
       "      <td>0.872219</td>\n",
       "    </tr>\n",
       "    <tr>\n",
       "      <th>information and communication technologies (icts)</th>\n",
       "      <td>0.856271</td>\n",
       "    </tr>\n",
       "    <tr>\n",
       "      <th>languages</th>\n",
       "      <td>0.844064</td>\n",
       "    </tr>\n",
       "    <tr>\n",
       "      <th>arts</th>\n",
       "      <td>0.833235</td>\n",
       "    </tr>\n",
       "    <tr>\n",
       "      <th>fine arts</th>\n",
       "      <td>0.819059</td>\n",
       "    </tr>\n",
       "    <tr>\n",
       "      <th>fashion, interior and industrial design</th>\n",
       "      <td>0.800551</td>\n",
       "    </tr>\n",
       "  </tbody>\n",
       "</table>\n",
       "</div>"
      ],
      "text/plain": [
       "                                                   percentage\n",
       "music and performing arts                            0.954912\n",
       "business and administration                          0.924591\n",
       "engineering and engineering trades                   0.902934\n",
       "economics                                            0.887970\n",
       "management and administration                        0.872219\n",
       "information and communication technologies (icts)    0.856271\n",
       "languages                                            0.844064\n",
       "arts                                                 0.833235\n",
       "fine arts                                            0.819059\n",
       "fashion, interior and industrial design              0.800551"
      ]
     },
     "metadata": {},
     "output_type": "display_data"
    }
   ],
   "source": [
    "removing_fields_df = pd.DataFrame({'percentage' : giant_perc_rem}, index=removed_fields).sort_values('percentage', ascending=False)\n",
    "print('Removing the edges from the following fields iteratively, we get the following percentages of nodes in the giant component:')\n",
    "display(removing_fields_df.head(10))"
   ]
  }
 ],
 "metadata": {
  "interpreter": {
   "hash": "2647ea34e536f865ab67ff9ddee7fd78773d956cec0cab53c79b32cd10da5d83"
  },
  "kernelspec": {
   "display_name": "Python 3.9.7 64-bit",
   "language": "python",
   "name": "python3"
  },
  "language_info": {
   "codemirror_mode": {
    "name": "ipython",
    "version": 3
   },
   "file_extension": ".py",
   "mimetype": "text/x-python",
   "name": "python",
   "nbconvert_exporter": "python",
   "pygments_lexer": "ipython3",
   "version": "3.9.7"
  },
  "orig_nbformat": 4
 },
 "nbformat": 4,
 "nbformat_minor": 2
}
